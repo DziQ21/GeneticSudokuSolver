{
 "cells": [
  {
   "cell_type": "code",
   "execution_count": null,
   "metadata": {
    "vscode": {
     "languageId": "plaintext"
    }
   },
   "outputs": [],
   "source": [
    "import subprocess\n",
    "import itertools\n",
    "import pandas as pd\n",
    "import os\n",
    "import threading"
   ]
  },
  {
   "cell_type": "code",
   "execution_count": null,
   "metadata": {},
   "outputs": [],
   "source": [
    "# Check if results.csv exists and load existing results\n",
    "if os.path.exists(\"C:\\\\inz\\\\GeneticSudokuSolver\\\\resultsHard.csv\"):\n",
    "    df_existing = pd.read_csv(\"C:\\\\inz\\\\GeneticSudokuSolver\\\\resultsHard.csv\")\n",
    "    results = df_existing.to_dict('records')\n",
    "    last_run = df_existing.iloc[-1]\n",
    "    last_combination = (last_run['log_level'], last_run['sudoku_path'], last_run['population_size'], last_run['mutation_rate'], last_run['fittest_rate'], last_run['reset_counter'])\n",
    "    last_iteration = last_run['iteration']\n",
    "    start_index = combinations.index(last_combination)\n",
    "    print(f\"Loaded {len(results)} existing results. Last run: {last_combination}, iteration {last_iteration}\")\n",
    "    start_iteration = last_iteration + 1\n",
    "else:\n",
    "    print(\"No existing results found.\")\n",
    "    start_index = 0\n",
    "    start_iteration = 1"
   ]
  }
 ],
 "metadata": {
  "language_info": {
   "name": "python"
  }
 },
 "nbformat": 4,
 "nbformat_minor": 2
}
